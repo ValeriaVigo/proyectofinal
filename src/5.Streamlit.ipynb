{
 "cells": [
  {
   "cell_type": "code",
   "execution_count": 17,
   "metadata": {},
   "outputs": [],
   "source": [
    "import pandas as pd\n",
    "import joblib\n",
    "import requests\n",
    "from io import BytesIO\n",
    "import csv\n",
    "# Cargar la base de datos desde Google Cloud Storage\n",
    "url_db = \"https://storage.googleapis.com/recomendacion_libros/librosyafiltrados.csv\"\n",
    "response = requests.get(url_db)\n",
    "data = pd.read_csv(BytesIO(response.content), delimiter=',')\n",
    "\n",
    "# Cargar el modelo entrenado desde Google Cloud Storage\n",
    "url_model = \"https://storage.googleapis.com/recomendacion_libros/modelo_libros_entrenado.pkl\"\n",
    "response_model = requests.get(url_model)\n",
    "model = joblib.load(BytesIO(response_model.content))\n",
    "\n"
   ]
  },
  {
   "cell_type": "code",
   "execution_count": 1,
   "metadata": {},
   "outputs": [],
   "source": [
    "import requests\n",
    "\n",
    "def download_database():\n",
    "    url = \"https://storage.googleapis.com/recomendacion_libros/librosfinal.db\"\n",
    "    response = requests.get(url)\n",
    "    if response.status_code == 200:\n",
    "        with open('librosfinal.db', 'wb') as f:\n",
    "            f.write(response.content)\n",
    "    else:\n",
    "        print(f\"Error al descargar la base de datos. Código de estado: {response.status_code}\")\n"
   ]
  },
  {
   "cell_type": "code",
   "execution_count": null,
   "metadata": {},
   "outputs": [],
   "source": []
  }
 ],
 "metadata": {
  "kernelspec": {
   "display_name": "Python 3",
   "language": "python",
   "name": "python3"
  },
  "language_info": {
   "codemirror_mode": {
    "name": "ipython",
    "version": 3
   },
   "file_extension": ".py",
   "mimetype": "text/x-python",
   "name": "python",
   "nbconvert_exporter": "python",
   "pygments_lexer": "ipython3",
   "version": "3.12.4"
  }
 },
 "nbformat": 4,
 "nbformat_minor": 2
}
