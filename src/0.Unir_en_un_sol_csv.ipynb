{
 "cells": [
  {
   "cell_type": "markdown",
   "metadata": {},
   "source": [
    "# **0. Unir todos los .CSV en uno solo**\n"
   ]
  },
  {
   "cell_type": "code",
   "execution_count": 1,
   "metadata": {},
   "outputs": [],
   "source": [
    "import pandas as pd\n",
    "import glob\n",
    "\n",
    "# Ruta donde se encuentran tus archivos CSV\n",
    "ruta_csvs = \"C:\\\\Users\\\\Fukushima\\\\Documents\\\\GitHub\\\\ProyectoFinalVV\\\\data\\\\raw\\\\*.csv\"\n",
    "\n",
    "# Cargar todos los archivos CSV\n",
    "archivos_csv = glob.glob(ruta_csvs)\n",
    "\n",
    "# Unir todos los archivos CSV en un solo DataFrame\n",
    "df_concatenado = pd.concat([pd.read_csv(archivo) for archivo in archivos_csv], ignore_index=True)\n",
    "\n",
    "# Guardar el DataFrame concatenado en un nuevo archivo CSV\n",
    "df_concatenado.to_csv(\"books.csv\", index=False)\n"
   ]
  },
  {
   "cell_type": "code",
   "execution_count": null,
   "metadata": {},
   "outputs": [],
   "source": []
  }
 ],
 "metadata": {
  "kernelspec": {
   "display_name": "Python 3",
   "language": "python",
   "name": "python3"
  },
  "language_info": {
   "codemirror_mode": {
    "name": "ipython",
    "version": 3
   },
   "file_extension": ".py",
   "mimetype": "text/x-python",
   "name": "python",
   "nbconvert_exporter": "python",
   "pygments_lexer": "ipython3",
   "version": "3.12.4"
  }
 },
 "nbformat": 4,
 "nbformat_minor": 2
}
